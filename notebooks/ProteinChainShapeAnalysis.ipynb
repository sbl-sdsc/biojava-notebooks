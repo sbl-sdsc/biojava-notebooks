{
 "cells": [
  {
   "cell_type": "markdown",
   "metadata": {},
   "source": [
    "# Example of running BioJava in a Jupyter Notebook\n",
    "This notebook demonstrates how to setup the BioJava dependencies, run BioJava code using the Java Kernel, and finally use a Python cell to plot results."
   ]
  },
  {
   "cell_type": "markdown",
   "metadata": {},
   "source": [
    "### Setup BioJava dependencies\n",
    "Configure class path resolver to use a local copy of jar files in the maven repository (~/.m2/repository)."
   ]
  },
  {
   "cell_type": "code",
   "execution_count": 1,
   "metadata": {},
   "outputs": [
    {
     "name": "stdout",
     "output_type": "stream",
     "text": [
      "Added new repo: mvnLocal\n"
     ]
    }
   ],
   "source": [
    "%classpath config resolver mvnLocal"
   ]
  },
  {
   "cell_type": "markdown",
   "metadata": {},
   "source": [
    "Load the required dependencies from the local maven repository."
   ]
  },
  {
   "cell_type": "code",
   "execution_count": 2,
   "metadata": {
    "scrolled": true
   },
   "outputs": [
    {
     "data": {
      "application/vnd.jupyter.widget-view+json": {
       "model_id": "",
       "version_major": 2,
       "version_minor": 0
      },
      "method": "display_data"
     },
     "metadata": {},
     "output_type": "display_data"
    },
    {
     "data": {
      "application/vnd.jupyter.widget-view+json": {
       "model_id": "1b69e98a-ab0a-4b0e-a578-317925707ffe",
       "version_major": 2,
       "version_minor": 0
      },
      "method": "display_data"
     },
     "metadata": {},
     "output_type": "display_data"
    }
   ],
   "source": [
    "%classpath add mvn org.biojava biojava-structure 5.1.1"
   ]
  },
  {
   "cell_type": "markdown",
   "metadata": {},
   "source": [
    "### Define method to calculate tri-axial ellipsoid radii for a protein chain\n",
    "Three ellipse radii a <= b <= c define a tri-axial ellipsoid along the axes of inertia along a protein chain."
   ]
  },
  {
   "cell_type": "markdown",
   "metadata": {},
   "source": [
    "![ellipsoid](../images/ellipsoid.png)"
   ]
  },
  {
   "cell_type": "markdown",
   "metadata": {},
   "source": [
    "The class below calculates the ellipsoid radii. Note, each code cell must be a compilable unit, e.g., a class definition."
   ]
  },
  {
   "cell_type": "code",
   "execution_count": 3,
   "metadata": {
    "code_folding": [],
    "scrolled": true
   },
   "outputs": [
    {
     "data": {
      "text/plain": [
       "com.twosigma.beaker.javash.bkra0a059fe.Shape"
      ]
     },
     "execution_count": 3,
     "metadata": {},
     "output_type": "execute_result"
    }
   ],
   "source": [
    "import org.biojava.nbio.structure.*;\n",
    "import org.biojava.nbio.structure.geometry.*;\n",
    "\n",
    "public class Shape {\n",
    "    public static double[] getEllipsisRadii(Chain c) {\n",
    "        MomentsOfInertia moi = new MomentsOfInertia();\n",
    "        // use C-alpha atoms only\n",
    "        for (Atom a: StructureTools.getAtomCAArray(c)) {\n",
    "            moi.addPoint(a.getCoordsAsPoint3d(), 1.0);\n",
    "        }\n",
    "        return moi.getElipsisRadii();\n",
    "    }\n",
    "}"
   ]
  },
  {
   "cell_type": "markdown",
   "metadata": {},
   "source": [
    "## Calculate ellipse radii for a representative subset of PDB chains\n",
    "Imports are not global, they need to be defined for each cell. However, classes defined in other cells can be accessed."
   ]
  },
  {
   "cell_type": "code",
   "execution_count": 4,
   "metadata": {
    "scrolled": true
   },
   "outputs": [
    {
     "name": "stdout",
     "output_type": "stream",
     "text": [
      "4IML.H 4Y82.M 4H9U.A 5QJY.A 1VAX.A 4P3Y.B 1MUP.A 3ZNJ.1 1KC8.J 1VQ9.U 1A5L.C 3JRU.B 4Z7Y.A 3CFV.B 2CYY.A 4NDY.D 2HF7.A 4N6V.2 3IYH.A 2ZZS.A 4BV6.A 1R88.A 5VHE.A 3VOO.A 1S9K.C 1M0D.A 2JPP.A 5GUP.2 5LUT.A 2H21.A 4V98.AM 5K31.A 3TLZ.A 3HQM.A 4MGP.A 1XBR.A 2VQL.A 3BOL.A 5N03.D 5WTR.A 3ITQ.A 2VSK.A 6GAW.CL 5K6Z.A 6FTQ.A 3GE5.A 1FS2.A 5BXP.A 4BL0.A 1XF7.A 3JA7.A 4JRE.A 5COM.A 4K35.A 1SGG.A 1LQL.A 4O96.A 6CIJ.N 5O09.1C 3LXR.F 5YHI.A 5F8E.A 5UNQ.A 5VOX.e 3R18.A 6HPW.A 5WXI.A 5Z57.P 2EV2.A 1DM0.A 5C59.A 3J7Y.h 3C05.A 5BYH.M 3KT1.A 3VTA.A 2NML.A 2EWN.A 6CON.A 4MH0.E 2MOB.A 6EJF.J 2YN3.A 3AL8.A 1NAA.A 2I7H.A 2X8P.A 1G7D.A 4HHQ.A 1Y9Z.A 4CU5.A 6GAZ.AO 2WAL.A 4BFG.A 2OJQ.A 6FNO.A 4V4I.H 5M0Y.B 5CM9.A 4KYI.A 4UD1.A 5LF9.A 1RP3.B 3BRT.A 3WO0.A 1YFN.E 3BS6.A 3BPJ.A 1QCW.A 5ZCY.A 6FES.A 4WJV.I 4CTI.A 5EXR.B 3CVO.A 1YDW.A 4I5N.B 3QZ0.A 3OEO.A 1K3R.A 5WZZ.E 5KOM.A 4NZG.A 3QXB.A 2PD1.A 5E8B.A 1RFZ.A 3IHL.A 1EQF.A 4J1V.E 5M8J.A 6GCZ.A 3O0Y.A 2D9N.A 4NYQ.A 2ZAE.A 2WX3.A 3HY8.A 2NRG.A 3C24.A 4R14.A 5MRF.M 2KZT.A 5ZGB.M 1WLP.B 5D72.A 2O3F.A 4B1L.A 3DLI.A 5W7P.A 5X8T.0 3DZU.D 1NOV.D 3BDV.A 5YUD.A 1K0H.A 2VJW.A 1RGO.A 2NA8.A 5Z7B.A 5WVR.A 5XGS.A 4B8B.A 4XZ7.A 6HIX.BB 4OZV.A 3C9F.A 1YO7.A 3ES4.A 1YHP.A 4DT5.A 5B5I.A 4R7E.A 1TIQ.A 1TOT.A 2HUO.A 5Y6P.A1 3NR7.A 2PL2.A 1MG7.A 6C3R.A 4WKR.A 2RGJ.A 6E2P.C 3DA5.A 6FYY.m 3L0I.A 1RSO.B 4V4B.AL 3H4X.A 1X9T.B 4A4H.A 4BZA.A 5FVL.C 2IB0.A 4E8U.A 5C6D.C 2AUW.A 3OPC.A 3S4O.A 3C4N.A 4JX2.A 4XW3.A 5T7A.A 3TQF.A 2L1P.A 4QIW.K 4HIC.A 2NZI.A 3OT2.A 5OEN.A 6C6L.N 5HZ7.A 4KRU.A 2AAN.A 1QXF.A 1IQ5.B 5OED.A 6CFW.F 3KN1.A 6IPY.A 5XTS.A 2KLO.A 2NR1.A 4NFU.B 3U50.C 4QVR.A 4X8K.A 2CSH.A 2PSB.A 5Y70.A 4OZK.A 1XV3.A 3EGE.A 3FGE.A 3WWT.B 2A3L.A 2N01.A 5NUV.A 2KFE.A 2KDR.X 2LA3.A 5C56.B 5FMF.1 4EGC.A 4QT6.A 3CE7.A 2LF3.A 4BJI.A 3T6P.A 2VQC.A 4QVU.A 5NDA.A 2L25.A 2NB8.A 2MFK.A 3WIN.C 3HFT.A 1T2K.D 2N9C.A 3K3Q.B 4QRK.A 1LM8.H 2Z5H.T 2RRL.A 5ODT.B 3AA0.C 5CVZ.A 6FKR.1y 1HJI.B 4U3V.A 1U6H.B 3OIQ.B 3FBQ.A 5IKF.A 2R4G.A 2K9S.A 4Q0X.E 3ELS.A 2KK4.A 6FM5.A 1VDL.A 5LSI.E 5YFP.C 6EDF.A 3J6B.2 2NAX.A 5L20.A 2W0C.T 1X4R.A "
     ]
    },
    {
     "data": {
      "text/plain": [
       "null"
      ]
     },
     "execution_count": 4,
     "metadata": {},
     "output_type": "execute_result"
    }
   ],
   "source": [
    "import java.util.*;\n",
    "import java.io.*;\n",
    "import org.biojava.nbio.structure.*;\n",
    "import org.biojava.nbio.structure.symmetry.utils.BlastClustReader;\n",
    "\n",
    "// store PDB chain id and ellipse radii in a csv file\n",
    "String fileName = \"radii.csv\";\n",
    "PrintWriter pw = new PrintWriter(new FileWriter(fileName));\n",
    "pw.println(\"id,a,b,c\");\n",
    "\n",
    "// use increment to only use every n-th representative\n",
    "int count = 0;\n",
    "int n = 100;\n",
    "\n",
    "// get representative PDB protein chains for 30% sequence identity clusters\n",
    "BlastClustReader br = new BlastClustReader(30);\n",
    "\n",
    "for (List<String> cluster: br.getPdbChainIdClusters()) {\n",
    "    // sample every n-th representative\n",
    "    if (count++ % n == 0) {\n",
    "        \n",
    "        // get the id for first chain in each sequence cluster\n",
    "        String pdbChainId = cluster.get(0);\n",
    "        System.out.print(pdbChainId + \" \");\n",
    "        \n",
    "        // download chain\n",
    "        Structure s = StructureIO.getStructure(pdbChainId);\n",
    "        Chain c = s.getPolyChains().get(0);\n",
    "        \n",
    "        // calculate and save ellipse radii\n",
    "        double[] r = Shape.getEllipsisRadii(c);\n",
    "        pw.println(pdbChainId + \",\" + r[0] + \",\" + r[1] + \",\" + r[2]);\n",
    "    }\n",
    "}\n",
    "pw.close();"
   ]
  },
  {
   "cell_type": "markdown",
   "metadata": {},
   "source": [
    "## Plot the distribution of ellipse radii\n",
    "Java and Python code can be mixed. Here a Python code cell is used to plot results."
   ]
  },
  {
   "cell_type": "code",
   "execution_count": 5,
   "metadata": {
    "scrolled": true
   },
   "outputs": [
    {
     "data": {
      "text/html": [
       "<div>\n",
       "<style scoped>\n",
       "    .dataframe tbody tr th:only-of-type {\n",
       "        vertical-align: middle;\n",
       "    }\n",
       "\n",
       "    .dataframe tbody tr th {\n",
       "        vertical-align: top;\n",
       "    }\n",
       "\n",
       "    .dataframe thead th {\n",
       "        text-align: right;\n",
       "    }\n",
       "</style>\n",
       "<table border=\"1\" class=\"dataframe\">\n",
       "  <thead>\n",
       "    <tr style=\"text-align: right;\">\n",
       "      <th></th>\n",
       "      <th>id</th>\n",
       "      <th>a</th>\n",
       "      <th>b</th>\n",
       "      <th>c</th>\n",
       "    </tr>\n",
       "  </thead>\n",
       "  <tbody>\n",
       "    <tr>\n",
       "      <th>0</th>\n",
       "      <td>4IML.H</td>\n",
       "      <td>11.157285</td>\n",
       "      <td>22.629641</td>\n",
       "      <td>23.599919</td>\n",
       "    </tr>\n",
       "    <tr>\n",
       "      <th>1</th>\n",
       "      <td>4Y82.M</td>\n",
       "      <td>12.189077</td>\n",
       "      <td>15.231136</td>\n",
       "      <td>16.971572</td>\n",
       "    </tr>\n",
       "    <tr>\n",
       "      <th>2</th>\n",
       "      <td>4H9U.A</td>\n",
       "      <td>14.008238</td>\n",
       "      <td>14.993670</td>\n",
       "      <td>15.836474</td>\n",
       "    </tr>\n",
       "    <tr>\n",
       "      <th>3</th>\n",
       "      <td>5QJY.A</td>\n",
       "      <td>11.247504</td>\n",
       "      <td>16.854019</td>\n",
       "      <td>17.282314</td>\n",
       "    </tr>\n",
       "    <tr>\n",
       "      <th>4</th>\n",
       "      <td>1VAX.A</td>\n",
       "      <td>14.103334</td>\n",
       "      <td>20.155992</td>\n",
       "      <td>21.609649</td>\n",
       "    </tr>\n",
       "  </tbody>\n",
       "</table>\n",
       "</div>"
      ],
      "text/plain": [
       "       id          a          b          c\n",
       "0  4IML.H  11.157285  22.629641  23.599919\n",
       "1  4Y82.M  12.189077  15.231136  16.971572\n",
       "2  4H9U.A  14.008238  14.993670  15.836474\n",
       "3  5QJY.A  11.247504  16.854019  17.282314\n",
       "4  1VAX.A  14.103334  20.155992  21.609649"
      ]
     },
     "execution_count": 1,
     "metadata": {},
     "output_type": "execute_result"
    }
   ],
   "source": [
    "%%python\n",
    "%matplotlib inline\n",
    "import matplotlib.pyplot as plt\n",
    "import pandas as pd\n",
    "\n",
    "df = pd.read_csv(\"radii.csv\")\n",
    "df.head()"
   ]
  },
  {
   "cell_type": "code",
   "execution_count": 7,
   "metadata": {},
   "outputs": [
    {
     "data": {
      "text/html": [
       "<div>\n",
       "<style scoped>\n",
       "    .dataframe tbody tr th:only-of-type {\n",
       "        vertical-align: middle;\n",
       "    }\n",
       "\n",
       "    .dataframe tbody tr th {\n",
       "        vertical-align: top;\n",
       "    }\n",
       "\n",
       "    .dataframe thead th {\n",
       "        text-align: right;\n",
       "    }\n",
       "</style>\n",
       "<table border=\"1\" class=\"dataframe\">\n",
       "  <thead>\n",
       "    <tr style=\"text-align: right;\">\n",
       "      <th></th>\n",
       "      <th>a</th>\n",
       "      <th>b</th>\n",
       "      <th>c</th>\n",
       "    </tr>\n",
       "  </thead>\n",
       "  <tbody>\n",
       "    <tr>\n",
       "      <th>count</th>\n",
       "      <td>290.000000</td>\n",
       "      <td>290.000000</td>\n",
       "      <td>290.000000</td>\n",
       "    </tr>\n",
       "    <tr>\n",
       "      <th>mean</th>\n",
       "      <td>10.607602</td>\n",
       "      <td>16.440926</td>\n",
       "      <td>17.483425</td>\n",
       "    </tr>\n",
       "    <tr>\n",
       "      <th>std</th>\n",
       "      <td>3.990159</td>\n",
       "      <td>6.134423</td>\n",
       "      <td>6.357957</td>\n",
       "    </tr>\n",
       "    <tr>\n",
       "      <th>min</th>\n",
       "      <td>1.781035</td>\n",
       "      <td>4.681052</td>\n",
       "      <td>4.887587</td>\n",
       "    </tr>\n",
       "    <tr>\n",
       "      <th>25%</th>\n",
       "      <td>8.226494</td>\n",
       "      <td>12.180130</td>\n",
       "      <td>13.007894</td>\n",
       "    </tr>\n",
       "    <tr>\n",
       "      <th>50%</th>\n",
       "      <td>10.764726</td>\n",
       "      <td>14.983243</td>\n",
       "      <td>16.184487</td>\n",
       "    </tr>\n",
       "    <tr>\n",
       "      <th>75%</th>\n",
       "      <td>13.341539</td>\n",
       "      <td>19.433500</td>\n",
       "      <td>20.659812</td>\n",
       "    </tr>\n",
       "    <tr>\n",
       "      <th>max</th>\n",
       "      <td>25.263396</td>\n",
       "      <td>47.087570</td>\n",
       "      <td>50.155539</td>\n",
       "    </tr>\n",
       "  </tbody>\n",
       "</table>\n",
       "</div>"
      ],
      "text/plain": [
       "                a           b           c\n",
       "count  290.000000  290.000000  290.000000\n",
       "mean    10.607602   16.440926   17.483425\n",
       "std      3.990159    6.134423    6.357957\n",
       "min      1.781035    4.681052    4.887587\n",
       "25%      8.226494   12.180130   13.007894\n",
       "50%     10.764726   14.983243   16.184487\n",
       "75%     13.341539   19.433500   20.659812\n",
       "max     25.263396   47.087570   50.155539"
      ]
     },
     "execution_count": 2,
     "metadata": {},
     "output_type": "execute_result"
    }
   ],
   "source": [
    "%%python\n",
    "df.describe()"
   ]
  },
  {
   "cell_type": "code",
   "execution_count": 8,
   "metadata": {},
   "outputs": [
    {
     "data": {
      "image/png": "[encoded data removed]",
      "text/plain": [
       "<Figure size 432x288 with 1 Axes>"
      ]
     },
     "metadata": {
      "needs_background": "light"
     },
     "output_type": "display_data"
    },
    {
     "data": {
      "image/png": "[encoded data removed]",
      "text/plain": [
       "<Figure size 432x288 with 1 Axes>"
      ]
     },
     "metadata": {
      "needs_background": "light"
     },
     "output_type": "display_data"
    },
    {
     "data": {
      "image/png": "[encoded data removed]",
      "text/plain": [
       "<Figure size 432x288 with 1 Axes>"
      ]
     },
     "metadata": {
      "needs_background": "light"
     },
     "output_type": "display_data"
    }
   ],
   "source": [
    "%%python\n",
    "df.plot.scatter(x=\"a\",y=\"c\",grid=True,title=\"Minor vs. major axis radius [\\u212B]\")\n",
    "df.plot.scatter(x=\"a\",y=\"b\",grid=True,title=\"Minor vs. intermediate axis radius [\\u212B]\")\n",
    "df.plot.scatter(x=\"b\",y=\"c\",grid=True,title=\"Intermediate vs. major axis radius [\\u212B]\");"
   ]
  },
  {
   "cell_type": "code",
   "execution_count": null,
   "metadata": {},
   "outputs": [],
   "source": []
  },
  {
   "cell_type": "code",
   "execution_count": null,
   "metadata": {},
   "outputs": [],
   "source": []
  }
 ],
 "metadata": {
  "kernelspec": {
   "display_name": "Java",
   "language": "java",
   "name": "java"
  },
  "language_info": {
   "codemirror_mode": "text/x-java",
   "file_extension": ".java",
   "mimetype": "",
   "name": "Java",
   "nbconverter_exporter": "",
   "version": "1.8.0_121"
  },
  "toc": {
   "base_numbering": 1,
   "nav_menu": {},
   "number_sections": false,
   "sideBar": false,
   "skip_h1_title": false,
   "title_cell": "Table of Contents",
   "title_sidebar": "Contents",
   "toc_cell": false,
   "toc_position": {},
   "toc_section_display": false,
   "toc_window_display": false
  }
 },
 "nbformat": 4,
 "nbformat_minor": 2
}
