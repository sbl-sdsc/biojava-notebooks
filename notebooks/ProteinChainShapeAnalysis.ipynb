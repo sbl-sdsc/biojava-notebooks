{
 "cells": [
  {
   "cell_type": "markdown",
   "metadata": {},
   "source": [
    "# Example of running BioJava in a Jupyter Notebook\n",
    "This notebook demonstrates how to setup the BioJava dependencies, run BioJava code using the Java Kernel, and finally use a Python cell to plot results."
   ]
  },
  {
   "cell_type": "markdown",
   "metadata": {},
   "source": [
    "### Setup BioJava dependencies\n",
    "Configure class path resolver to use a local copy of jar files in the maven repository (~/.m2/repository)."
   ]
  },
  {
   "cell_type": "code",
   "execution_count": 1,
   "metadata": {},
   "outputs": [
    {
     "name": "stdout",
     "output_type": "stream",
     "text": [
      "Added new repo: mvnLocal\n"
     ]
    }
   ],
   "source": [
    "%classpath config resolver mvnLocal"
   ]
  },
  {
   "cell_type": "markdown",
   "metadata": {},
   "source": [
    "Load the required dependencies from the local maven repository."
   ]
  },
  {
   "cell_type": "code",
   "execution_count": 2,
   "metadata": {
    "scrolled": true
   },
   "outputs": [
    {
     "data": {
      "application/vnd.jupyter.widget-view+json": {
       "model_id": "",
       "version_major": 2,
       "version_minor": 0
      },
      "method": "display_data"
     },
     "metadata": {},
     "output_type": "display_data"
    },
    {
     "data": {
      "application/vnd.jupyter.widget-view+json": {
       "model_id": "9452a43f-945b-43c7-b3f7-3ebd836614b7",
       "version_major": 2,
       "version_minor": 0
      },
      "method": "display_data"
     },
     "metadata": {},
     "output_type": "display_data"
    }
   ],
   "source": [
    "%classpath add mvn org.biojava biojava-structure 5.1.1"
   ]
  },
  {
   "cell_type": "markdown",
   "metadata": {},
   "source": [
    "### Define method to calculate elipse radii around the principal axes of inertia of a protein chain\n",
    "Each cell must be  a compilable unit, e.g., a class definition."
   ]
  },
  {
   "cell_type": "code",
   "execution_count": 3,
   "metadata": {
    "code_folding": [],
    "scrolled": true
   },
   "outputs": [
    {
     "data": {
      "text/plain": [
       "com.twosigma.beaker.javash.bkrfaddd993.Shape"
      ]
     },
     "execution_count": 3,
     "metadata": {},
     "output_type": "execute_result"
    }
   ],
   "source": [
    "import org.biojava.nbio.structure.*;\n",
    "import org.biojava.nbio.structure.geometry.*;\n",
    "\n",
    "public class Shape {\n",
    "    public static double[] getElipsisRadii(Chain c) {\n",
    "        MomentsOfInertia moi = new MomentsOfInertia();\n",
    "        // use C-alpha atoms only\n",
    "        for (Atom a: StructureTools.getAtomCAArray(c)) {\n",
    "            moi.addPoint(a.getCoordsAsPoint3d(), 1.0);\n",
    "        }\n",
    "        return moi.getElipsisRadii();\n",
    "    }\n",
    "}"
   ]
  },
  {
   "cell_type": "markdown",
   "metadata": {},
   "source": [
    "## Calculate elipse radii for a representative subset of PDB chains\n",
    "Imports are not global, they need to be defined for each cell. However, classes defined in other cells can be accessed."
   ]
  },
  {
   "cell_type": "code",
   "execution_count": 4,
   "metadata": {
    "scrolled": true
   },
   "outputs": [
    {
     "name": "stdout",
     "output_type": "stream",
     "text": [
      "5AZE.H 5AA0.AT 4H9U.A 5YAM.A 1LWD.A 1FZU.A 4JH8.A 5J8D.A 1HX6.A 3R7T.A 6D90.s 4GAF.A 6DXL.A 3HS0.A 1LXY.A 2POH.A 3IE1.A 6C92.B 3CT4.A 2AG1.A 1IS7.A 4RC7.A 1M5Q.A 2QZ8.A 3NXE.A 5H1Q.A 4B97.A 3NEC.A 5J7U.A 3GVM.A 5JR7.B 2B42.A 4J0K.A 5X0N.A 4YOK.A 4EUO.A 1SQL.A 3IXL.A 6EU2.M 3THN.A 5JJU.A 2C1D.B 1GG4.A 3K7T.A 3F5F.A 2JM1.A 2IML.A 5M73.C 1VC9.A 4LCK.A 4HL9.A 1EZV.B 1W4G.A 4Q73.A 3C9G.A 1WAO.1 1V2B.A 4J25.A 5GUW.A 4H9P.C 5IT0.A 3ABG.A 3RQZ.A 1O7L.A 1TV8.A 3R6Y.A 2ICW.G 3QWU.A 4EJQ.A 1ZMQ.A 5XSX.A 4MLD.A 5DIR.A 2DS7.A 5LJY.A 5W0X.A 2D5L.A 1KYO.F 2WIU.B 1VG0.A 4R3I.A 1KAF.A 3O6U.A 4BRJ.A 2WP4.A 5U9Z.A 5G52.A 3PM9.A 5WTI.Z 5GQH.B 1IJX.A 5LC5.B 4BFG.A 3DZD.A 4LKU.A 4PWA.A 4N0N.A 2LR6.A 2I1J.A 6B4M.A 5LF9.A 2M8R.A 5JTV.A 3ISR.A 2EQ5.A 1J4J.A 5XDH.A 1YQE.A 5UWB.B 3K7C.A 4V7O.AE 2HX1.A 4XPZ.A 3D3S.A 2H1O.E 4M70.E 4II1.A 4FXQ.A 3OPY.A 4V9J.Be 5TUV.A 5XMJ.C 4J7H.A 1SCF.A 4V62.AX 5GUG.A 4OM3.A 2R78.A 4IRV.A 1ZXJ.A 5K2Y.A 2JNC.A 3WFO.A 6HIY.CE 5MRF.3 5NFM.A 4Q4G.X 1C6W.A 4HGK.C 4J2J.D 4MBE.B 2O5F.A 3HA2.A 4ZW0.A 6G90.D 5JO8.A 4G4I.A 3AAF.A 4C3S.A 1ANP.A 2AFE.A 4NTC.A 4G59.C 1BL0.A 2KW1.A 5X8P.u 5IET.B 4GL8.A 1SM7.A 5ADY.6 5YYL.C 4Z96.C 3F1I.S 5Y7O.A 1KVN.A 4DFC.A 5FTT.A 1Y9B.A 4UUT.A 2MRE.B 2IXB.A 3CJL.A 4UM8.B 4Z8L.B 5A6F.C 3TEV.A 2Z5E.A 2R15.A 1DXS.A 4DHK.A 4ZMM.A 4F3S.A 3E18.A 3HX1.A 5EIP.A 2Q0X.A 3TYY.A 2MHG.A 3LAZ.A 5N5P.B 4PH8.A 4EQQ.A 3EFY.A 1B5F.B 1Y0J.A 5EDJ.A 5LSJ.N 4CHH.A 2JS9.A 2GS9.A 2BOL.A 4WIJ.A 3WEW.A 2VW9.A 5I0Q.A 5HO9.A 4O7J.B 6GYG.A 4MDR.A 1JR2.A 4WQO.A 3EBR.A 2JYN.A 5WLC.ST 2E8P.A 2XPP.B 5OQL.H 3F2E.A 1WHZ.A 6A96.A 1DSQ.A 4RUL.A 2FG9.A 1UHU.A 2KXD.A 4EO0.A 3FO8.D 2K88.A 1SDD.A 2QQ8.A 5JOJ.A 2JZX.A 2XEU.A 4HFV.A 2F6H.X 2L73.A 5TE9.A 2GYT.A 2CSW.A 2EXD.A 2M4I.A 2LDE.A 5JNQ.A 2HUH.A 2QNA.B 5G4X.A 2KDU.B 3KNV.A 2C7H.A 4LWS.A 1QLO.A 5U87.A 2E44.A 3K6J.A 1ZLG.A 3DDC.B 1ERD.A 2H09.A 3TGH.A 2QTV.D 5T7Q.A 5J5T.A 3ZF8.A 4ELN.A 2LIF.A 6BHF.A 1N7D.A 6CFW.B 3UQ3.A 3LMZ.A 3L1N.A 1LDL.A 4V5Z.Ae 5ERE.A 3I4U.A 1S62.A 2MVB.A 5BY4.A 3W15.A 2R9Y.A 5K9H.A 2M7C.A 3TMA.A 3LDT.A 5UQD.A 1M4E.A 4QXL.A 2KUM.A "
     ]
    },
    {
     "data": {
      "text/plain": [
       "null"
      ]
     },
     "execution_count": 4,
     "metadata": {},
     "output_type": "execute_result"
    }
   ],
   "source": [
    "import java.util.*;\n",
    "import java.io.*;\n",
    "import org.biojava.nbio.structure.*;\n",
    "import org.biojava.nbio.structure.symmetry.utils.BlastClustReader;\n",
    "\n",
    "// store PDB chain id and elipse radii in a csv file\n",
    "String fileName = \"radii.csv\";\n",
    "PrintWriter pw = new PrintWriter(new FileWriter(fileName));\n",
    "pw.println(\"id,r1,r2,r3\");\n",
    "\n",
    "// use increment to only use every n-th representative\n",
    "int count = 0;\n",
    "int n = 100;\n",
    "\n",
    "// get representative PDB protein chains for 30% sequence identity clusters\n",
    "BlastClustReader br = new BlastClustReader(30);\n",
    "\n",
    "for (List<String> cluster: br.getPdbChainIdClusters()) {\n",
    "    // sample every n-th representative\n",
    "    if (count++ % n == 0) {\n",
    "        \n",
    "        // get the id for first chain in each sequence cluster\n",
    "        String pdbChainId = cluster.get(0);\n",
    "        System.out.print(pdbChainId + \" \");\n",
    "        \n",
    "        // download chain\n",
    "        Structure s = StructureIO.getStructure(pdbChainId);\n",
    "        Chain c = s.getPolyChains().get(0);\n",
    "        \n",
    "        // calculate and save elipse radii\n",
    "        double[] r = Shape.getElipsisRadii(c);\n",
    "        pw.println(pdbChainId + \",\" + r[0] + \",\" + r[1] + \",\" + r[2]);\n",
    "    }\n",
    "}\n",
    "pw.close();"
   ]
  },
  {
   "cell_type": "markdown",
   "metadata": {},
   "source": [
    "## Plot the distribution of radii\n",
    "Use a Python cell to plot the results using Matplotlib."
   ]
  },
  {
   "cell_type": "code",
   "execution_count": 5,
   "metadata": {},
   "outputs": [
    {
     "data": {
      "image/png": "[encoded data removed]",
      "text/plain": [
       "<Figure size 432x288 with 1 Axes>"
      ]
     },
     "metadata": {
      "needs_background": "light"
     },
     "output_type": "display_data"
    },
    {
     "data": {
      "image/png": "[encoded data removed]",
      "text/plain": [
       "<Figure size 432x288 with 1 Axes>"
      ]
     },
     "metadata": {
      "needs_background": "light"
     },
     "output_type": "display_data"
    }
   ],
   "source": [
    "%%python\n",
    "%matplotlib inline\n",
    "import matplotlib.pyplot as plt\n",
    "import pandas as pd\n",
    "\n",
    "df = pd.read_csv('radii.csv')\n",
    "\n",
    "df.plot.scatter(x='r1',y='r2',grid=True,title='Elipse Radii for Protein Chains (r1 vs. r2)')\n",
    "df.plot.scatter(x='r2',y='r3',grid=True,title='Elipse Radii for Protein Chains (r2 vs. r3)');"
   ]
  },
  {
   "cell_type": "code",
   "execution_count": null,
   "metadata": {},
   "outputs": [],
   "source": []
  }
 ],
 "metadata": {
  "kernelspec": {
   "display_name": "Java",
   "language": "java",
   "name": "java"
  },
  "language_info": {
   "codemirror_mode": "text/x-java",
   "file_extension": ".java",
   "mimetype": "",
   "name": "Java",
   "nbconverter_exporter": "",
   "version": "1.8.0_152-release"
  },
  "toc": {
   "base_numbering": 1,
   "nav_menu": {},
   "number_sections": false,
   "sideBar": false,
   "skip_h1_title": false,
   "title_cell": "Table of Contents",
   "title_sidebar": "Contents",
   "toc_cell": false,
   "toc_position": {},
   "toc_section_display": false,
   "toc_window_display": false
  }
 },
 "nbformat": 4,
 "nbformat_minor": 2
}
